{
 "cells": [
  {
   "cell_type": "code",
   "execution_count": 1,
   "metadata": {
    "collapsed": true
   },
   "outputs": [],
   "source": [
    "import lxml\n",
    "import html5lib\n",
    "import re\n",
    "import json\n",
    "import uuid\n",
    "import glob\n",
    "import pickle\n",
    "from nltk.tokenize import RegexpTokenizer\n",
    "from nltk.corpus import stopwords\n",
    "from nltk.stem.lancaster import LancasterStemmer\n",
    "from nltk.cluster import KMeansClusterer, euclidean_distance\n",
    "from gensim import corpora, models, utils\n",
    "from numpy import array\n",
    "from gensim.parsing.preprocessing import STOPWORDS\n",
    "from gensim.utils import simple_preprocess\n",
    "from pprint import pprint\n",
    "from gensim import corpora\n",
    "import re\n",
    "from os.path import basename\n",
    "import string\n",
    "import logging\n",
    "import pandas as pd\n",
    "import numpy as np\n",
    "import pyLDAvis\n",
    "from empath import Empath\n",
    "lexicon = Empath()\n",
    "import gensim"
   ]
  },
  {
   "cell_type": "code",
   "execution_count": 2,
   "metadata": {
    "collapsed": false
   },
   "outputs": [
    {
     "name": "stdout",
     "output_type": "stream",
     "text": [
      "height has been deprecated.\n",
      "\n"
     ]
    },
    {
     "name": "stderr",
     "output_type": "stream",
     "text": [
      "/anaconda/lib/python3.6/site-packages/pandas/core/config.py:615: DeprecationWarning: height has been deprecated.\n",
      "\n",
      "  warnings.warn(d.msg, DeprecationWarning)\n"
     ]
    }
   ],
   "source": [
    "pd.set_option('display.height', 1000)\n",
    "pd.set_option('display.max_rows', 500)\n",
    "pd.set_option('display.max_columns', 500)\n",
    "pd.set_option('display.width', 1000)"
   ]
  },
  {
   "cell_type": "code",
   "execution_count": 27,
   "metadata": {
    "collapsed": false
   },
   "outputs": [],
   "source": [
    "df = pd.read_pickle('aggregatedReddit.pkl')"
   ]
  },
  {
   "cell_type": "code",
   "execution_count": 28,
   "metadata": {
    "collapsed": false
   },
   "outputs": [
    {
     "data": {
      "text/html": [
       "<div>\n",
       "<style>\n",
       "    .dataframe thead tr:only-child th {\n",
       "        text-align: right;\n",
       "    }\n",
       "\n",
       "    .dataframe thead th {\n",
       "        text-align: left;\n",
       "    }\n",
       "\n",
       "    .dataframe tbody tr th {\n",
       "        vertical-align: top;\n",
       "    }\n",
       "</style>\n",
       "<table border=\"1\" class=\"dataframe\">\n",
       "  <thead>\n",
       "    <tr style=\"text-align: right;\">\n",
       "      <th></th>\n",
       "      <th>subreddit</th>\n",
       "      <th>controversiality</th>\n",
       "      <th>downs</th>\n",
       "      <th>gilded</th>\n",
       "      <th>removal_reason</th>\n",
       "      <th>score</th>\n",
       "      <th>ups</th>\n",
       "      <th>throwaway</th>\n",
       "      <th>sleep_l</th>\n",
       "      <th>birth</th>\n",
       "      <th>judgment</th>\n",
       "      <th>postshare</th>\n",
       "      <th>games</th>\n",
       "      <th>unknown1</th>\n",
       "      <th>milestones</th>\n",
       "      <th>dental</th>\n",
       "      <th>work-life</th>\n",
       "      <th>sickness</th>\n",
       "      <th>congratulations</th>\n",
       "      <th>playpark</th>\n",
       "      <th>diaper</th>\n",
       "      <th>vaccine</th>\n",
       "      <th>learnlang</th>\n",
       "      <th>leavechildroom</th>\n",
       "      <th>school</th>\n",
       "      <th>hair-skin-care</th>\n",
       "      <th>unkonwn2</th>\n",
       "      <th>sex-tlk-teens</th>\n",
       "      <th>tantrum</th>\n",
       "      <th>discipline</th>\n",
       "      <th>sleep-better</th>\n",
       "      <th>unknown3</th>\n",
       "      <th>circumcision</th>\n",
       "      <th>pottytrain</th>\n",
       "      <th>teething</th>\n",
       "      <th>income</th>\n",
       "      <th>judge</th>\n",
       "      <th>abuse</th>\n",
       "      <th>toys</th>\n",
       "      <th>travel</th>\n",
       "      <th>diaper2</th>\n",
       "      <th>prepfood</th>\n",
       "      <th>car_seat</th>\n",
       "      <th>kidbooks</th>\n",
       "      <th>smokealc</th>\n",
       "      <th>unknown4</th>\n",
       "      <th>pet</th>\n",
       "      <th>newborn</th>\n",
       "      <th>gift2</th>\n",
       "      <th>faith</th>\n",
       "      <th>fath2</th>\n",
       "      <th>eyecolor</th>\n",
       "      <th>discusscomm</th>\n",
       "      <th>develop</th>\n",
       "      <th>Movie</th>\n",
       "      <th>gamecomp</th>\n",
       "      <th>breastfeed</th>\n",
       "      <th>shopcheap</th>\n",
       "    </tr>\n",
       "  </thead>\n",
       "  <tbody>\n",
       "    <tr>\n",
       "      <th>0</th>\n",
       "      <td>Mommit</td>\n",
       "      <td>0.004817</td>\n",
       "      <td>0.0</td>\n",
       "      <td>0.000099</td>\n",
       "      <td>NaN</td>\n",
       "      <td>3.129805</td>\n",
       "      <td>3.093928</td>\n",
       "      <td>0.001482</td>\n",
       "      <td>0.060401</td>\n",
       "      <td>0.040854</td>\n",
       "      <td>0.075290</td>\n",
       "      <td>0.087538</td>\n",
       "      <td>0.060475</td>\n",
       "      <td>0.096479</td>\n",
       "      <td>0.078570</td>\n",
       "      <td>0.035779</td>\n",
       "      <td>0.083596</td>\n",
       "      <td>0.088249</td>\n",
       "      <td>0.097451</td>\n",
       "      <td>0.072803</td>\n",
       "      <td>0.040867</td>\n",
       "      <td>0.035882</td>\n",
       "      <td>0.014351</td>\n",
       "      <td>0.068815</td>\n",
       "      <td>0.071334</td>\n",
       "      <td>0.048400</td>\n",
       "      <td>0.107667</td>\n",
       "      <td>0.070029</td>\n",
       "      <td>0.087956</td>\n",
       "      <td>0.072970</td>\n",
       "      <td>0.098715</td>\n",
       "      <td>0.098755</td>\n",
       "      <td>0.058636</td>\n",
       "      <td>0.078792</td>\n",
       "      <td>0.094688</td>\n",
       "      <td>0.056572</td>\n",
       "      <td>0.099363</td>\n",
       "      <td>0.058698</td>\n",
       "      <td>0.066539</td>\n",
       "      <td>0.069061</td>\n",
       "      <td>0.049916</td>\n",
       "      <td>0.064174</td>\n",
       "      <td>0.059007</td>\n",
       "      <td>0.064360</td>\n",
       "      <td>0.016570</td>\n",
       "      <td>0.114230</td>\n",
       "      <td>0.068163</td>\n",
       "      <td>0.090183</td>\n",
       "      <td>0.076025</td>\n",
       "      <td>0.095293</td>\n",
       "      <td>0.060599</td>\n",
       "      <td>0.017119</td>\n",
       "      <td>0.040356</td>\n",
       "      <td>0.057809</td>\n",
       "      <td>0.063765</td>\n",
       "      <td>0.059094</td>\n",
       "      <td>0.085513</td>\n",
       "      <td>0.101802</td>\n",
       "    </tr>\n",
       "    <tr>\n",
       "      <th>1</th>\n",
       "      <td>Parenting</td>\n",
       "      <td>0.014511</td>\n",
       "      <td>0.0</td>\n",
       "      <td>0.000242</td>\n",
       "      <td>NaN</td>\n",
       "      <td>4.856578</td>\n",
       "      <td>4.715181</td>\n",
       "      <td>0.002735</td>\n",
       "      <td>0.057062</td>\n",
       "      <td>0.036427</td>\n",
       "      <td>0.080229</td>\n",
       "      <td>0.079920</td>\n",
       "      <td>0.065282</td>\n",
       "      <td>0.094383</td>\n",
       "      <td>0.067606</td>\n",
       "      <td>0.034695</td>\n",
       "      <td>0.085992</td>\n",
       "      <td>0.079712</td>\n",
       "      <td>0.077819</td>\n",
       "      <td>0.077595</td>\n",
       "      <td>0.034553</td>\n",
       "      <td>0.038750</td>\n",
       "      <td>0.016060</td>\n",
       "      <td>0.080103</td>\n",
       "      <td>0.075462</td>\n",
       "      <td>0.041978</td>\n",
       "      <td>0.107530</td>\n",
       "      <td>0.073180</td>\n",
       "      <td>0.074543</td>\n",
       "      <td>0.081916</td>\n",
       "      <td>0.086976</td>\n",
       "      <td>0.095539</td>\n",
       "      <td>0.056665</td>\n",
       "      <td>0.075467</td>\n",
       "      <td>0.078313</td>\n",
       "      <td>0.059413</td>\n",
       "      <td>0.109050</td>\n",
       "      <td>0.068289</td>\n",
       "      <td>0.065980</td>\n",
       "      <td>0.068780</td>\n",
       "      <td>0.041431</td>\n",
       "      <td>0.063632</td>\n",
       "      <td>0.059150</td>\n",
       "      <td>0.062894</td>\n",
       "      <td>0.017934</td>\n",
       "      <td>0.119691</td>\n",
       "      <td>0.070579</td>\n",
       "      <td>0.078133</td>\n",
       "      <td>0.080267</td>\n",
       "      <td>0.100711</td>\n",
       "      <td>0.060234</td>\n",
       "      <td>0.015580</td>\n",
       "      <td>0.045874</td>\n",
       "      <td>0.059621</td>\n",
       "      <td>0.064466</td>\n",
       "      <td>0.064282</td>\n",
       "      <td>0.068784</td>\n",
       "      <td>0.094806</td>\n",
       "    </tr>\n",
       "    <tr>\n",
       "      <th>2</th>\n",
       "      <td>daddit</td>\n",
       "      <td>0.005113</td>\n",
       "      <td>0.0</td>\n",
       "      <td>0.000306</td>\n",
       "      <td>NaN</td>\n",
       "      <td>3.223496</td>\n",
       "      <td>3.104951</td>\n",
       "      <td>0.001226</td>\n",
       "      <td>0.056853</td>\n",
       "      <td>0.039600</td>\n",
       "      <td>0.078483</td>\n",
       "      <td>0.083835</td>\n",
       "      <td>0.065330</td>\n",
       "      <td>0.100941</td>\n",
       "      <td>0.076070</td>\n",
       "      <td>0.042263</td>\n",
       "      <td>0.083424</td>\n",
       "      <td>0.078607</td>\n",
       "      <td>0.119882</td>\n",
       "      <td>0.072682</td>\n",
       "      <td>0.042389</td>\n",
       "      <td>0.035184</td>\n",
       "      <td>0.013870</td>\n",
       "      <td>0.066895</td>\n",
       "      <td>0.074028</td>\n",
       "      <td>0.048793</td>\n",
       "      <td>0.100590</td>\n",
       "      <td>0.067729</td>\n",
       "      <td>0.081577</td>\n",
       "      <td>0.072808</td>\n",
       "      <td>0.092553</td>\n",
       "      <td>0.098127</td>\n",
       "      <td>0.053234</td>\n",
       "      <td>0.076542</td>\n",
       "      <td>0.085574</td>\n",
       "      <td>0.052862</td>\n",
       "      <td>0.096342</td>\n",
       "      <td>0.056196</td>\n",
       "      <td>0.069600</td>\n",
       "      <td>0.068627</td>\n",
       "      <td>0.046192</td>\n",
       "      <td>0.062685</td>\n",
       "      <td>0.057985</td>\n",
       "      <td>0.068144</td>\n",
       "      <td>0.015737</td>\n",
       "      <td>0.109864</td>\n",
       "      <td>0.075092</td>\n",
       "      <td>0.087632</td>\n",
       "      <td>0.076305</td>\n",
       "      <td>0.100425</td>\n",
       "      <td>0.061273</td>\n",
       "      <td>0.019333</td>\n",
       "      <td>0.037652</td>\n",
       "      <td>0.053636</td>\n",
       "      <td>0.066626</td>\n",
       "      <td>0.065217</td>\n",
       "      <td>0.071938</td>\n",
       "      <td>0.098344</td>\n",
       "    </tr>\n",
       "  </tbody>\n",
       "</table>\n",
       "</div>"
      ],
      "text/plain": [
       "   subreddit  controversiality  downs    gilded  removal_reason     score       ups  throwaway   sleep_l     birth  judgment  postshare     games  unknown1  milestones    dental  work-life  sickness  congratulations  playpark    diaper   vaccine  learnlang  leavechildroom    school  hair-skin-care  unkonwn2  sex-tlk-teens   tantrum  discipline  sleep-better  unknown3  circumcision  pottytrain  teething    income     judge     abuse      toys    travel   diaper2  prepfood  car_seat  kidbooks  smokealc  unknown4       pet   newborn     gift2     faith     fath2  eyecolor  discusscomm   develop     Movie  gamecomp  breastfeed  shopcheap\n",
       "0     Mommit          0.004817    0.0  0.000099             NaN  3.129805  3.093928   0.001482  0.060401  0.040854  0.075290   0.087538  0.060475  0.096479    0.078570  0.035779   0.083596  0.088249         0.097451  0.072803  0.040867  0.035882   0.014351        0.068815  0.071334        0.048400  0.107667       0.070029  0.087956    0.072970      0.098715  0.098755      0.058636    0.078792  0.094688  0.056572  0.099363  0.058698  0.066539  0.069061  0.049916  0.064174  0.059007  0.064360  0.016570  0.114230  0.068163  0.090183  0.076025  0.095293  0.060599  0.017119     0.040356  0.057809  0.063765  0.059094    0.085513   0.101802\n",
       "1  Parenting          0.014511    0.0  0.000242             NaN  4.856578  4.715181   0.002735  0.057062  0.036427  0.080229   0.079920  0.065282  0.094383    0.067606  0.034695   0.085992  0.079712         0.077819  0.077595  0.034553  0.038750   0.016060        0.080103  0.075462        0.041978  0.107530       0.073180  0.074543    0.081916      0.086976  0.095539      0.056665    0.075467  0.078313  0.059413  0.109050  0.068289  0.065980  0.068780  0.041431  0.063632  0.059150  0.062894  0.017934  0.119691  0.070579  0.078133  0.080267  0.100711  0.060234  0.015580     0.045874  0.059621  0.064466  0.064282    0.068784   0.094806\n",
       "2     daddit          0.005113    0.0  0.000306             NaN  3.223496  3.104951   0.001226  0.056853  0.039600  0.078483   0.083835  0.065330  0.100941    0.076070  0.042263   0.083424  0.078607         0.119882  0.072682  0.042389  0.035184   0.013870        0.066895  0.074028        0.048793  0.100590       0.067729  0.081577    0.072808      0.092553  0.098127      0.053234    0.076542  0.085574  0.052862  0.096342  0.056196  0.069600  0.068627  0.046192  0.062685  0.057985  0.068144  0.015737  0.109864  0.075092  0.087632  0.076305  0.100425  0.061273  0.019333     0.037652  0.053636  0.066626  0.065217    0.071938   0.098344"
      ]
     },
     "execution_count": 28,
     "metadata": {},
     "output_type": "execute_result"
    }
   ],
   "source": [
    "df.head()"
   ]
  },
  {
   "cell_type": "code",
   "execution_count": 29,
   "metadata": {
    "collapsed": true
   },
   "outputs": [],
   "source": [
    "Attempt = df.groupby('subreddit', as_index=False).mean()"
   ]
  },
  {
   "cell_type": "code",
   "execution_count": 50,
   "metadata": {
    "collapsed": false
   },
   "outputs": [],
   "source": [
    "Attempt = df[['subreddit', 'milestones', 'sex-tlk-teens','discipline']]"
   ]
  },
  {
   "cell_type": "code",
   "execution_count": 51,
   "metadata": {
    "collapsed": true
   },
   "outputs": [],
   "source": [
    "A = Attempt"
   ]
  },
  {
   "cell_type": "code",
   "execution_count": 52,
   "metadata": {
    "collapsed": false
   },
   "outputs": [
    {
     "data": {
      "text/html": [
       "<div>\n",
       "<style>\n",
       "    .dataframe thead tr:only-child th {\n",
       "        text-align: right;\n",
       "    }\n",
       "\n",
       "    .dataframe thead th {\n",
       "        text-align: left;\n",
       "    }\n",
       "\n",
       "    .dataframe tbody tr th {\n",
       "        vertical-align: top;\n",
       "    }\n",
       "</style>\n",
       "<table border=\"1\" class=\"dataframe\">\n",
       "  <thead>\n",
       "    <tr style=\"text-align: right;\">\n",
       "      <th></th>\n",
       "      <th>subreddit</th>\n",
       "      <th>milestones</th>\n",
       "      <th>sex-tlk-teens</th>\n",
       "      <th>discipline</th>\n",
       "    </tr>\n",
       "  </thead>\n",
       "  <tbody>\n",
       "    <tr>\n",
       "      <th>0</th>\n",
       "      <td>Mommit</td>\n",
       "      <td>0.078570</td>\n",
       "      <td>0.070029</td>\n",
       "      <td>0.072970</td>\n",
       "    </tr>\n",
       "    <tr>\n",
       "      <th>1</th>\n",
       "      <td>Parenting</td>\n",
       "      <td>0.067606</td>\n",
       "      <td>0.073180</td>\n",
       "      <td>0.081916</td>\n",
       "    </tr>\n",
       "    <tr>\n",
       "      <th>2</th>\n",
       "      <td>daddit</td>\n",
       "      <td>0.076070</td>\n",
       "      <td>0.067729</td>\n",
       "      <td>0.072808</td>\n",
       "    </tr>\n",
       "  </tbody>\n",
       "</table>\n",
       "</div>"
      ],
      "text/plain": [
       "   subreddit  milestones  sex-tlk-teens  discipline\n",
       "0     Mommit    0.078570       0.070029    0.072970\n",
       "1  Parenting    0.067606       0.073180    0.081916\n",
       "2     daddit    0.076070       0.067729    0.072808"
      ]
     },
     "execution_count": 52,
     "metadata": {},
     "output_type": "execute_result"
    }
   ],
   "source": [
    "A"
   ]
  },
  {
   "cell_type": "code",
   "execution_count": 53,
   "metadata": {
    "collapsed": false
   },
   "outputs": [],
   "source": [
    "X = A[['milestones', 'sex-tlk-teens','discipline']].as_matrix()"
   ]
  },
  {
   "cell_type": "code",
   "execution_count": 54,
   "metadata": {
    "collapsed": false
   },
   "outputs": [
    {
     "data": {
      "text/plain": [
       "(3, 3)"
      ]
     },
     "execution_count": 54,
     "metadata": {},
     "output_type": "execute_result"
    }
   ],
   "source": [
    "X.shape"
   ]
  },
  {
   "cell_type": "code",
   "execution_count": 55,
   "metadata": {
    "collapsed": true
   },
   "outputs": [],
   "source": [
    "Reddits = ['Mommit','Parenting','Daddit']"
   ]
  },
  {
   "cell_type": "code",
   "execution_count": 41,
   "metadata": {
    "collapsed": false
   },
   "outputs": [
    {
     "data": {
      "image/png": "[encoded data removed]",
      "text/plain": [
       "<matplotlib.figure.Figure at 0x1117c3278>"
      ]
     },
     "metadata": {},
     "output_type": "display_data"
    }
   ],
   "source": [
    "import numpy as np\n",
    "\n",
    "import matplotlib.pyplot as plt\n",
    "\n",
    "fig = plt.figure()\n",
    "\n",
    "#X = A\n",
    "\n",
    "plt.pcolor(X, norm=None, cmap='Blues')\n",
    "\n",
    "N, K = X.shape\n",
    "\n",
    "Topics = ['Sleep training', 'Breastfeeding','Potty training']\n",
    "topic_labels = [k for k in Topics]\n",
    "\n",
    "# put the major ticks at the middle of each cell\n",
    "# the trailing semicolon ';' suppresses output\n",
    "plt.yticks(np.arange(X.shape[0])+0.2, Reddits, rotation = 90, fontsize = 10);\n",
    "\n",
    "plt.xticks(np.arange(X.shape[1])+0.5, topic_labels, rotation = 0, fontsize = 10);\n",
    "plt.ylabel('Subreddits', fontsize=20)\n",
    "plt.xlabel('LDA Topics', fontsize=20)\n",
    "\n",
    "# flip the y-axis so the texts are in the order we anticipate (Austen first, then Brontë)\n",
    "plt.gca().invert_yaxis()\n",
    "\n",
    "plt.tick_params('x', length=10, width=2, which='major')\n",
    "\n",
    "# rotate the ticks on the x-axis\n",
    "plt.xticks()\n",
    "\n",
    "# add a legend\n",
    "plt.colorbar(cmap='Blues')\n",
    "\n",
    "plt.tight_layout() \n",
    "plt.show()\n",
    "fig.set_size_inches(15, 15)\n",
    "fig.savefig('RedditCompare.png')"
   ]
  },
  {
   "cell_type": "code",
   "execution_count": 49,
   "metadata": {
    "collapsed": false
   },
   "outputs": [
    {
     "data": {
      "image/png": "[encoded data removed]",
      "text/plain": [
       "<matplotlib.figure.Figure at 0x113279940>"
      ]
     },
     "metadata": {},
     "output_type": "display_data"
    }
   ],
   "source": [
    "import numpy as np\n",
    "\n",
    "import matplotlib.pyplot as plt\n",
    "\n",
    "fig = plt.figure()\n",
    "\n",
    "#X = A\n",
    "\n",
    "plt.pcolor(X, norm=None, cmap='Blues')\n",
    "\n",
    "N, K = X.shape\n",
    "\n",
    "Topics = ['Congratulations', 'Sharing resources','Post norms']\n",
    "topic_labels = [k for k in Topics]\n",
    "\n",
    "# put the major ticks at the middle of each cell\n",
    "# the trailing semicolon ';' suppresses output\n",
    "plt.yticks(np.arange(X.shape[0])+0.2, Reddits, rotation = 90, fontsize = 10);\n",
    "\n",
    "plt.xticks(np.arange(X.shape[1])+0.5, topic_labels, rotation = 0, fontsize = 10);\n",
    "plt.ylabel('Subreddits', fontsize=20)\n",
    "plt.xlabel('LDA Topics', fontsize=20)\n",
    "\n",
    "# flip the y-axis so the texts are in the order we anticipate (Austen first, then Brontë)\n",
    "plt.gca().invert_yaxis()\n",
    "\n",
    "plt.tick_params('x', length=10, width=2, which='major')\n",
    "\n",
    "# rotate the ticks on the x-axis\n",
    "plt.xticks()\n",
    "\n",
    "# add a legend\n",
    "plt.colorbar(cmap='Blues')\n",
    "\n",
    "plt.tight_layout() \n",
    "plt.show()\n",
    "#fig.set_size_inches(15, 15)\n",
    "fig.savefig('RedditCompareCongSharePost.png')"
   ]
  },
  {
   "cell_type": "code",
   "execution_count": 56,
   "metadata": {
    "collapsed": false
   },
   "outputs": [
    {
     "data": {
      "image/png": "[encoded data removed]",
      "text/plain": [
       "<matplotlib.figure.Figure at 0x11171e7b8>"
      ]
     },
     "metadata": {},
     "output_type": "display_data"
    }
   ],
   "source": [
    "import numpy as np\n",
    "\n",
    "import matplotlib.pyplot as plt\n",
    "\n",
    "fig = plt.figure()\n",
    "\n",
    "#X = A\n",
    "\n",
    "plt.pcolor(X, norm=None, cmap='Blues')\n",
    "\n",
    "N, K = X.shape\n",
    "\n",
    "Topics = ['Milestones', 'Teen/Sex Talk','Discipline']\n",
    "topic_labels = [k for k in Topics]\n",
    "\n",
    "# put the major ticks at the middle of each cell\n",
    "# the trailing semicolon ';' suppresses output\n",
    "plt.yticks(np.arange(X.shape[0])+0.2, Reddits, rotation = 90, fontsize = 10);\n",
    "\n",
    "plt.xticks(np.arange(X.shape[1])+0.5, topic_labels, rotation = 0, fontsize = 10);\n",
    "plt.ylabel('Subreddits', fontsize=20)\n",
    "plt.xlabel('LDA Topics', fontsize=20)\n",
    "\n",
    "# flip the y-axis so the texts are in the order we anticipate (Austen first, then Brontë)\n",
    "plt.gca().invert_yaxis()\n",
    "\n",
    "plt.tick_params('x', length=10, width=2, which='major')\n",
    "\n",
    "# rotate the ticks on the x-axis\n",
    "plt.xticks()\n",
    "\n",
    "# add a legend\n",
    "plt.colorbar(cmap='Blues')\n",
    "\n",
    "plt.tight_layout() \n",
    "plt.show()\n",
    "#fig.set_size_inches(15, 15)\n",
    "fig.savefig('RedditCompareMilestones.png')"
   ]
  },
  {
   "cell_type": "code",
   "execution_count": 40,
   "metadata": {
    "collapsed": false
   },
   "outputs": [
    {
     "data": {
      "image/png": "[encoded data removed]",
      "text/plain": [
       "<matplotlib.figure.Figure at 0x1042f4d68>"
      ]
     },
     "metadata": {},
     "output_type": "display_data"
    }
   ],
   "source": [
    "import numpy as np\n",
    "\n",
    "import matplotlib.pyplot as plt\n",
    "\n",
    "fig = plt.figure()\n",
    "\n",
    "#X = A\n",
    "\n",
    "plt.pcolor(X, norm=None, cmap='Blues')\n",
    "\n",
    "N, K = X.shape\n",
    "\n",
    "Topics = ['Sleep training', 'Breastfeeding','Potty training']\n",
    "topic_labels = [k for k in Topics]\n",
    "\n",
    "# put the major ticks at the middle of each cell\n",
    "# the trailing semicolon ';' suppresses output\n",
    "plt.ylabel('Subreddits', fontsize=20)\n",
    "plt.xlabel('LDA Topics', fontsize=20)\n",
    "\n",
    "# flip the y-axis so the texts are in the order we anticipate (Austen first, then Brontë)\n",
    "plt.gca().invert_yaxis()\n",
    "# rotate the ticks on the x-axis\n",
    "plt.xticks()\n",
    "\n",
    "# add a legend\n",
    "plt.colorbar(cmap='Blues')\n",
    "\n",
    "plt.yticks(np.arange(X.shape[0])+0.5, Reddits);\n",
    "\n",
    "plt.xticks(np.arange(X.shape[1])+0.5, topic_labels);\n",
    "\n",
    "# flip the y-axis so the texts are in the order we anticipate (Austen first, then Brontë)\n",
    "plt.gca().invert_yaxis()\n",
    "\n",
    "# rotate the ticks on the x-axis\n",
    "plt.xticks(rotation=90)\n",
    "\n",
    "# add a legend\n",
    "\n",
    "plt.tight_layout() \n",
    "plt.show()\n"
   ]
  },
  {
   "cell_type": "code",
   "execution_count": 10,
   "metadata": {
    "collapsed": false
   },
   "outputs": [
    {
     "data": {
      "text/plain": [
       "<matplotlib.collections.PolyCollection at 0x129394250>"
      ]
     },
     "execution_count": 10,
     "metadata": {},
     "output_type": "execute_result"
    }
   ],
   "source": [
    "import numpy as np\n",
    "\n",
    "import matplotlib.pyplot as plt\n",
    "plt.pcolor(X, norm=None, cmap=\"Blues\")"
   ]
  },
  {
   "cell_type": "code",
   "execution_count": 11,
   "metadata": {
    "collapsed": true
   },
   "outputs": [],
   "source": [
    "plt.savefig('firstbluew.png')"
   ]
  }
 ],
 "metadata": {
  "anaconda-cloud": {},
  "kernelspec": {
   "display_name": "Python 3",
   "language": "python",
   "name": "python3"
  },
  "language_info": {
   "codemirror_mode": {
    "name": "ipython",
    "version": 3
   },
   "file_extension": ".py",
   "mimetype": "text/x-python",
   "name": "python",
   "nbconvert_exporter": "python",
   "pygments_lexer": "ipython3",
   "version": "3.6.0"
  }
 },
 "nbformat": 4,
 "nbformat_minor": 1
}
